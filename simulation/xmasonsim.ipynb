{
 "cells": [
  {
   "cell_type": "code",
   "execution_count": null,
   "metadata": {
    "collapsed": true,
    "pycharm": {
     "name": "#%%\n"
    }
   },
   "outputs": [],
   "source": [
    "# xMason can be directly installed from the GitHub repository using PIP.\n",
    "!pip install git+https://github.com/luuleitner/xMason"
   ]
  },
  {
   "cell_type": "code",
   "execution_count": 2,
   "outputs": [],
   "source": [
    "# We need to import necessary packages into Colab. Don't worry to much about this cell of code\n",
    "\n",
    "from simulation.src.data.loader import VNA_Dataloader\n",
    "from simulation.src.models.simulate import simulate_xMason\n",
    "from simulation.src.features.ports import frequency_spectrum\n",
    "\n",
    "import numpy as np # array handeling\n",
    "from urllib.request import urlretrieve # for downloading the sample data\n",
    "import seaborn as sns\n",
    "from matplotlib import pyplot as plt\n",
    "from scipy.signal import find_peaks"
   ],
   "metadata": {
    "collapsed": false,
    "pycharm": {
     "name": "#%%\n"
    }
   }
  }
 ],
 "metadata": {
  "kernelspec": {
   "display_name": "Python 3",
   "language": "python",
   "name": "python3"
  },
  "language_info": {
   "codemirror_mode": {
    "name": "ipython",
    "version": 2
   },
   "file_extension": ".py",
   "mimetype": "text/x-python",
   "name": "python",
   "nbconvert_exporter": "python",
   "pygments_lexer": "ipython2",
   "version": "2.7.6"
  }
 },
 "nbformat": 4,
 "nbformat_minor": 0
}