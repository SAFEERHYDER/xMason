{
 "cells": [
  {
   "cell_type": "code",
   "execution_count": null,
   "outputs": [],
   "source": [
    "[![Open In Colab](https://colab.research.google.com/assets/colab-badge.svg)](https://colab.research.google.com/github/luuleitner/xMason/blob/master/simulation/xmasonsim.ipynb)"
   ],
   "metadata": {
    "collapsed": false,
    "pycharm": {
     "name": "#%%\n"
    }
   }
  },
  {
   "cell_type": "code",
   "execution_count": 1,
   "metadata": {
    "collapsed": true,
    "pycharm": {
     "name": "#%%\n"
    },
    "id": "n_kdRIrUsML-",
    "outputId": "7151ddf8-f5f0-459e-b785-13e8655e6b48",
    "colab": {
     "base_uri": "https://localhost:8080/"
    }
   },
   "outputs": [
    {
     "output_type": "stream",
     "name": "stdout",
     "text": [
      "Looking in indexes: https://pypi.org/simple, https://us-python.pkg.dev/colab-wheels/public/simple/\n",
      "Collecting git+https://github.com/luuleitner/xMason\n",
      "  Cloning https://github.com/luuleitner/xMason to /tmp/pip-req-build-hkgjf7cb\n",
      "  Running command git clone -q https://github.com/luuleitner/xMason /tmp/pip-req-build-hkgjf7cb\n",
      "Collecting datetime\n",
      "  Downloading DateTime-4.4-py2.py3-none-any.whl (51 kB)\n",
      "\u001B[K     |████████████████████████████████| 51 kB 169 kB/s \n",
      "\u001B[?25hRequirement already satisfied: tqdm in /usr/local/lib/python3.7/dist-packages (from xMason==1.0) (4.64.0)\n",
      "Requirement already satisfied: numpy in /usr/local/lib/python3.7/dist-packages (from xMason==1.0) (1.21.6)\n",
      "Requirement already satisfied: matplotlib in /usr/local/lib/python3.7/dist-packages (from xMason==1.0) (3.2.2)\n",
      "Requirement already satisfied: pandas in /usr/local/lib/python3.7/dist-packages (from xMason==1.0) (1.3.5)\n",
      "Requirement already satisfied: pytz in /usr/local/lib/python3.7/dist-packages (from datetime->xMason==1.0) (2022.1)\n",
      "Collecting zope.interface\n",
      "  Downloading zope.interface-5.4.0-cp37-cp37m-manylinux2010_x86_64.whl (251 kB)\n",
      "\u001B[K     |████████████████████████████████| 251 kB 12.1 MB/s \n",
      "\u001B[?25hRequirement already satisfied: pyparsing!=2.0.4,!=2.1.2,!=2.1.6,>=2.0.1 in /usr/local/lib/python3.7/dist-packages (from matplotlib->xMason==1.0) (3.0.9)\n",
      "Requirement already satisfied: kiwisolver>=1.0.1 in /usr/local/lib/python3.7/dist-packages (from matplotlib->xMason==1.0) (1.4.3)\n",
      "Requirement already satisfied: cycler>=0.10 in /usr/local/lib/python3.7/dist-packages (from matplotlib->xMason==1.0) (0.11.0)\n",
      "Requirement already satisfied: python-dateutil>=2.1 in /usr/local/lib/python3.7/dist-packages (from matplotlib->xMason==1.0) (2.8.2)\n",
      "Requirement already satisfied: typing-extensions in /usr/local/lib/python3.7/dist-packages (from kiwisolver>=1.0.1->matplotlib->xMason==1.0) (4.1.1)\n",
      "Requirement already satisfied: six>=1.5 in /usr/local/lib/python3.7/dist-packages (from python-dateutil>=2.1->matplotlib->xMason==1.0) (1.15.0)\n",
      "Requirement already satisfied: setuptools in /usr/local/lib/python3.7/dist-packages (from zope.interface->datetime->xMason==1.0) (57.4.0)\n",
      "Building wheels for collected packages: xMason\n",
      "  Building wheel for xMason (setup.py) ... \u001B[?25l\u001B[?25hdone\n",
      "  Created wheel for xMason: filename=xMason-1.0-py3-none-any.whl size=15944 sha256=86db872d84f5ba9ecad4a7652e772644daa6f98d267770d428a41eacab1c6c85\n",
      "  Stored in directory: /tmp/pip-ephem-wheel-cache-67q9wz5n/wheels/2b/97/35/9cc839136d62979206df40b03dcc41952315ae913e8ef6f43c\n",
      "Successfully built xMason\n",
      "Installing collected packages: zope.interface, datetime, xMason\n",
      "Successfully installed datetime-4.4 xMason-1.0 zope.interface-5.4.0\n"
     ]
    }
   ],
   "source": [
    "# xMason can be directly installed from the GitHub repository using PIP.\n",
    "!pip install git+https://github.com/luuleitner/xMason"
   ]
  },
  {
   "cell_type": "code",
   "execution_count": 2,
   "outputs": [],
   "source": [
    "# Import functions from xMason\n",
    "from simulation.src.data.loader import VNA_Dataloader\n",
    "from simulation.src.models.simulate import simulate_xMason\n",
    "from simulation.src.features.ports import frequency_spectrum\n",
    "\n",
    "# Import additional python packages\n",
    "import numpy as np\n",
    "from urllib.request import urlretrieve\n",
    "from scipy.signal import find_peaks\n",
    "import seaborn as sns\n",
    "from matplotlib import pyplot as plt"
   ],
   "metadata": {
    "pycharm": {
     "name": "#%%\n"
    },
    "id": "2U_-mmLnsMMA"
   }
  }
 ],
 "metadata": {
  "kernelspec": {
   "display_name": "Python 3",
   "language": "python",
   "name": "python3"
  },
  "language_info": {
   "codemirror_mode": {
    "name": "ipython",
    "version": 2
   },
   "file_extension": ".py",
   "mimetype": "text/x-python",
   "name": "python",
   "nbconvert_exporter": "python",
   "pygments_lexer": "ipython2",
   "version": "2.7.6"
  },
  "colab": {
   "name": "xmasonsim.ipynb",
   "provenance": []
  }
 },
 "nbformat": 4,
 "nbformat_minor": 0
}