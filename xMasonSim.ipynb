{
 "nbformat": 4,
 "nbformat_minor": 0,
 "metadata": {
  "colab": {
   "name": "xMasonSim.ipynb",
   "provenance": [],
   "authorship_tag": "ABX9TyNMq2XMJhJoP2c1ih9NyRD7",
   "include_colab_link": true
  },
  "kernelspec": {
   "name": "python3",
   "display_name": "Python 3"
  },
  "language_info": {
   "name": "python"
  }
 },
 "cells": [
  {
   "cell_type": "markdown",
   "metadata": {
    "id": "view-in-github",
    "colab_type": "text",
    "pycharm": {
     "name": "#%% md\n"
    }
   },
   "source": [
    "<a href=\"https://colab.research.google.com/github/luuleitner/xMason/blob/main/xMasonSim.ipynb\" target=\"_parent\"><img src=\"https://colab.research.google.com/assets/colab-badge.svg\" alt=\"Open In Colab\"/></a>"
   ]
  },
  {
   "cell_type": "code",
   "execution_count": 17,
   "metadata": {
    "id": "R_3RfvRKxRuT",
    "pycharm": {
     "name": "#%%\n"
    }
   },
   "outputs": [
    {
     "name": "stdout",
     "output_type": "stream",
     "text": [
      "Collecting git+https://github.com/luuleitner/xMason\n",
      "  Cloning https://github.com/luuleitner/xMason to c:\\users\\chule\\appdata\\local\\temp\\pip-req-build-l_cwjvib\n",
      "  Resolved https://github.com/luuleitner/xMason to commit 49dbb129c35053a81caea4566c184c2f7802a0a0\n",
      "  Preparing metadata (setup.py): started\n",
      "  Preparing metadata (setup.py): finished with status 'done'\n",
      "Requirement already satisfied: tqdm in c:\\users\\chule\\anaconda3\\envs\\py37gen\\lib\\site-packages (from xMason==1.0) (4.62.3)\n",
      "Requirement already satisfied: numpy in c:\\users\\chule\\anaconda3\\envs\\py37gen\\lib\\site-packages (from xMason==1.0) (1.21.6)\n",
      "Requirement already satisfied: matplotlib in c:\\users\\chule\\anaconda3\\envs\\py37gen\\lib\\site-packages (from xMason==1.0) (3.5.1)\n",
      "Requirement already satisfied: pandas in c:\\users\\chule\\anaconda3\\envs\\py37gen\\lib\\site-packages (from xMason==1.0) (1.1.3)\n",
      "Requirement already satisfied: pyparsing>=2.2.1 in c:\\users\\chule\\anaconda3\\envs\\py37gen\\lib\\site-packages (from matplotlib->xMason==1.0) (3.0.6)\n",
      "Requirement already satisfied: pillow>=6.2.0 in c:\\users\\chule\\anaconda3\\envs\\py37gen\\lib\\site-packages (from matplotlib->xMason==1.0) (8.4.0)\n",
      "Requirement already satisfied: packaging>=20.0 in c:\\users\\chule\\anaconda3\\envs\\py37gen\\lib\\site-packages (from matplotlib->xMason==1.0) (21.3)\n",
      "Requirement already satisfied: kiwisolver>=1.0.1 in c:\\users\\chule\\anaconda3\\envs\\py37gen\\lib\\site-packages (from matplotlib->xMason==1.0) (1.3.2)\n",
      "Requirement already satisfied: cycler>=0.10 in c:\\users\\chule\\anaconda3\\envs\\py37gen\\lib\\site-packages (from matplotlib->xMason==1.0) (0.11.0)\n",
      "Requirement already satisfied: fonttools>=4.22.0 in c:\\users\\chule\\anaconda3\\envs\\py37gen\\lib\\site-packages (from matplotlib->xMason==1.0) (4.28.5)\n",
      "Requirement already satisfied: python-dateutil>=2.7 in c:\\users\\chule\\anaconda3\\envs\\py37gen\\lib\\site-packages (from matplotlib->xMason==1.0) (2.8.1)\n",
      "Requirement already satisfied: pytz>=2017.2 in c:\\users\\chule\\anaconda3\\envs\\py37gen\\lib\\site-packages (from pandas->xMason==1.0) (2020.1)\n",
      "Requirement already satisfied: colorama in c:\\users\\chule\\anaconda3\\envs\\py37gen\\lib\\site-packages (from tqdm->xMason==1.0) (0.4.4)\n",
      "Requirement already satisfied: six>=1.5 in c:\\users\\chule\\anaconda3\\envs\\py37gen\\lib\\site-packages (from python-dateutil>=2.7->matplotlib->xMason==1.0) (1.15.0)\n"
     ]
    },
    {
     "name": "stderr",
     "output_type": "stream",
     "text": [
      "  Running command git clone --filter=blob:none -q https://github.com/luuleitner/xMason 'C:\\Users\\chule\\AppData\\Local\\Temp\\pip-req-build-l_cwjvib'\n"
     ]
    }
   ],
   "source": [
    "# xMason can be directly installed from the GitHub repository using PIP.\n",
    "\n",
    "!pip install git+https://github.com/luuleitner/xMason"
   ]
  },
  {
   "cell_type": "code",
   "source": [
    "# We need to import necessary packages into Colab. Don't worry to much about this cell of code\n",
    "\n",
    "from src.data.loader import VNA_Dataloader\n",
    "from src.models.simulate import simulate_xMason\n",
    "from src.features.ports import frequency_spectrum\n",
    "\n",
    "import numpy as np # array handeling\n",
    "from urllib.request import urlretrieve # for downloading the sample data\n",
    "import seaborn as sns\n",
    "from matplotlib import pyplot as plt\n",
    "from scipy.signal import find_peaks"
   ],
   "metadata": {
    "id": "0VLs5aa6xn1x",
    "pycharm": {
     "name": "#%%\n"
    }
   },
   "execution_count": 18,
   "outputs": []
  }
 ]
}