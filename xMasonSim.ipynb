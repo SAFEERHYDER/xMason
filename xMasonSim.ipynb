{
 "nbformat": 4,
 "nbformat_minor": 0,
 "metadata": {
  "colab": {
   "name": "xMasonSim.ipynb",
   "provenance": [],
   "authorship_tag": "ABX9TyNMq2XMJhJoP2c1ih9NyRD7",
   "include_colab_link": true
  },
  "kernelspec": {
   "name": "python3",
   "display_name": "Python 3"
  },
  "language_info": {
   "name": "python"
  }
 },
 "cells": [
  {
   "cell_type": "markdown",
   "metadata": {
    "id": "view-in-github",
    "colab_type": "text",
    "pycharm": {
     "name": "#%% md\n"
    }
   },
   "source": [
    "<a href=\"https://colab.research.google.com/github/luuleitner/xMason/blob/main/xMasonSim.ipynb\" target=\"_parent\"><img src=\"https://colab.research.google.com/assets/colab-badge.svg\" alt=\"Open In Colab\"/></a>"
   ]
  },
  {
   "cell_type": "code",
   "execution_count": 2,
   "metadata": {
    "id": "R_3RfvRKxRuT",
    "pycharm": {
     "name": "#%%\n"
    }
   },
   "outputs": [
    {
     "name": "stdout",
     "output_type": "stream",
     "text": [
      "Collecting git+https://github.com/luuleitner/xMason\n",
      "  Cloning https://github.com/luuleitner/xMason to c:\\users\\chule\\appdata\\local\\temp\\pip-req-build-fd68eyih\n",
      "  Resolved https://github.com/luuleitner/xMason to commit 27f5df78051a35d73275f81d72a64de088ea240b\n",
      "  Preparing metadata (setup.py): started\n",
      "  Preparing metadata (setup.py): finished with status 'done'\n",
      "Requirement already satisfied: tqdm in c:\\users\\chule\\anaconda3\\envs\\py37gen\\lib\\site-packages (from xMason==1.0) (4.62.3)\n",
      "Requirement already satisfied: numpy in c:\\users\\chule\\anaconda3\\envs\\py37gen\\lib\\site-packages (from xMason==1.0) (1.21.6)\n",
      "Requirement already satisfied: matplotlib in c:\\users\\chule\\anaconda3\\envs\\py37gen\\lib\\site-packages (from xMason==1.0) (3.5.1)\n",
      "Requirement already satisfied: pandas in c:\\users\\chule\\anaconda3\\envs\\py37gen\\lib\\site-packages (from xMason==1.0) (1.1.3)\n",
      "Requirement already satisfied: pyparsing>=2.2.1 in c:\\users\\chule\\anaconda3\\envs\\py37gen\\lib\\site-packages (from matplotlib->xMason==1.0) (3.0.6)\n",
      "Requirement already satisfied: fonttools>=4.22.0 in c:\\users\\chule\\anaconda3\\envs\\py37gen\\lib\\site-packages (from matplotlib->xMason==1.0) (4.28.5)\n",
      "Requirement already satisfied: kiwisolver>=1.0.1 in c:\\users\\chule\\anaconda3\\envs\\py37gen\\lib\\site-packages (from matplotlib->xMason==1.0) (1.3.2)\n",
      "Requirement already satisfied: cycler>=0.10 in c:\\users\\chule\\anaconda3\\envs\\py37gen\\lib\\site-packages (from matplotlib->xMason==1.0) (0.11.0)\n",
      "Requirement already satisfied: python-dateutil>=2.7 in c:\\users\\chule\\anaconda3\\envs\\py37gen\\lib\\site-packages (from matplotlib->xMason==1.0) (2.8.1)\n",
      "Requirement already satisfied: pillow>=6.2.0 in c:\\users\\chule\\anaconda3\\envs\\py37gen\\lib\\site-packages (from matplotlib->xMason==1.0) (8.4.0)\n",
      "Requirement already satisfied: packaging>=20.0 in c:\\users\\chule\\anaconda3\\envs\\py37gen\\lib\\site-packages (from matplotlib->xMason==1.0) (21.3)\n",
      "Requirement already satisfied: pytz>=2017.2 in c:\\users\\chule\\anaconda3\\envs\\py37gen\\lib\\site-packages (from pandas->xMason==1.0) (2020.1)\n",
      "Requirement already satisfied: colorama in c:\\users\\chule\\anaconda3\\envs\\py37gen\\lib\\site-packages (from tqdm->xMason==1.0) (0.4.4)\n",
      "Requirement already satisfied: six>=1.5 in c:\\users\\chule\\anaconda3\\envs\\py37gen\\lib\\site-packages (from python-dateutil>=2.7->matplotlib->xMason==1.0) (1.15.0)\n",
      "Building wheels for collected packages: xMason\n",
      "  Building wheel for xMason (setup.py): started\n",
      "  Building wheel for xMason (setup.py): finished with status 'done'\n",
      "  Created wheel for xMason: filename=xMason-1.0-py3-none-any.whl size=15670 sha256=d8e7dc7bc894e938acfd87ff3ccf7aca4f5acb0520a42e33b21c527805280ea1\n",
      "  Stored in directory: C:\\Users\\chule\\AppData\\Local\\Temp\\pip-ephem-wheel-cache-2byh6u99\\wheels\\2b\\97\\35\\9cc839136d62979206df40b03dcc41952315ae913e8ef6f43c\n",
      "Successfully built xMason\n",
      "Installing collected packages: xMason\n",
      "Successfully installed xMason-1.0\n"
     ]
    },
    {
     "name": "stderr",
     "output_type": "stream",
     "text": [
      "  Running command git clone --filter=blob:none -q https://github.com/luuleitner/xMason 'C:\\Users\\chule\\AppData\\Local\\Temp\\pip-req-build-fd68eyih'\n"
     ]
    }
   ],
   "source": [
    "# xMason can be directly installed from the GitHub repository using PIP.\n",
    "\n",
    "!pip install git+https://github.com/luuleitner/xMason"
   ]
  },
  {
   "cell_type": "code",
   "source": [
    "# We need to import necessary packages into Colab. Don't worry to much about this cell of code\n",
    "\n",
    "from src.data.loader import VNA_Dataloader\n",
    "from src.models.simulate import simulate_xMason\n",
    "from src.features.ports import frequency_spectrum\n",
    "\n",
    "import numpy as np # array handeling\n",
    "from urllib.request import urlretrieve # for downloading the sample data\n",
    "import seaborn as sns\n",
    "from matplotlib import pyplot as plt\n",
    "from scipy.signal import find_peaks"
   ],
   "metadata": {
    "id": "0VLs5aa6xn1x",
    "pycharm": {
     "name": "#%%\n"
    }
   },
   "execution_count": 3,
   "outputs": [
    {
     "ename": "ModuleNotFoundError",
     "evalue": "No module named 'MASONmodel'",
     "output_type": "error",
     "traceback": [
      "\u001B[1;31m---------------------------------------------------------------------------\u001B[0m",
      "\u001B[1;31mModuleNotFoundError\u001B[0m                       Traceback (most recent call last)",
      "\u001B[1;32m~\\AppData\\Local\\Temp\\ipykernel_14080\\3310276328.py\u001B[0m in \u001B[0;36m<module>\u001B[1;34m\u001B[0m\n\u001B[0;32m      2\u001B[0m \u001B[1;33m\u001B[0m\u001B[0m\n\u001B[0;32m      3\u001B[0m \u001B[1;32mfrom\u001B[0m \u001B[0msrc\u001B[0m\u001B[1;33m.\u001B[0m\u001B[0mdata\u001B[0m\u001B[1;33m.\u001B[0m\u001B[0mloader\u001B[0m \u001B[1;32mimport\u001B[0m \u001B[0mVNA_Dataloader\u001B[0m\u001B[1;33m\u001B[0m\u001B[1;33m\u001B[0m\u001B[0m\n\u001B[1;32m----> 4\u001B[1;33m \u001B[1;32mfrom\u001B[0m \u001B[0msrc\u001B[0m\u001B[1;33m.\u001B[0m\u001B[0mmodels\u001B[0m\u001B[1;33m.\u001B[0m\u001B[0msimulate\u001B[0m \u001B[1;32mimport\u001B[0m \u001B[0msimulate_xMason\u001B[0m\u001B[1;33m\u001B[0m\u001B[1;33m\u001B[0m\u001B[0m\n\u001B[0m\u001B[0;32m      5\u001B[0m \u001B[1;32mfrom\u001B[0m \u001B[0msrc\u001B[0m\u001B[1;33m.\u001B[0m\u001B[0mfeatures\u001B[0m\u001B[1;33m.\u001B[0m\u001B[0mports\u001B[0m \u001B[1;32mimport\u001B[0m \u001B[0mfrequency_spectrum\u001B[0m\u001B[1;33m\u001B[0m\u001B[1;33m\u001B[0m\u001B[0m\n\u001B[0;32m      6\u001B[0m \u001B[1;33m\u001B[0m\u001B[0m\n",
      "\u001B[1;32m~\\OneDrive\\003_USLOCOMOTOR_GitREPO\\xMason\\src\\models\\simulate.py\u001B[0m in \u001B[0;36m<module>\u001B[1;34m\u001B[0m\n\u001B[0;32m     20\u001B[0m \u001B[1;32mfrom\u001B[0m \u001B[0mpathlib\u001B[0m \u001B[1;32mimport\u001B[0m \u001B[0mPath\u001B[0m\u001B[1;33m\u001B[0m\u001B[1;33m\u001B[0m\u001B[0m\n\u001B[0;32m     21\u001B[0m \u001B[1;33m\u001B[0m\u001B[0m\n\u001B[1;32m---> 22\u001B[1;33m \u001B[1;32mfrom\u001B[0m \u001B[0mMASONmodel\u001B[0m\u001B[1;33m.\u001B[0m\u001B[0msrc\u001B[0m\u001B[1;33m.\u001B[0m\u001B[0mdata\u001B[0m\u001B[1;33m.\u001B[0m\u001B[0mloader\u001B[0m \u001B[1;32mimport\u001B[0m \u001B[0mMaterial\u001B[0m\u001B[1;33m\u001B[0m\u001B[1;33m\u001B[0m\u001B[0m\n\u001B[0m\u001B[0;32m     23\u001B[0m \u001B[1;32mfrom\u001B[0m \u001B[0mMASONmodel\u001B[0m\u001B[1;33m.\u001B[0m\u001B[0msrc\u001B[0m\u001B[1;33m.\u001B[0m\u001B[0mfeatures\u001B[0m\u001B[1;33m.\u001B[0m\u001B[0mtransducer\u001B[0m \u001B[1;32mimport\u001B[0m \u001B[0mTransducer\u001B[0m\u001B[1;33m\u001B[0m\u001B[1;33m\u001B[0m\u001B[0m\n\u001B[0;32m     24\u001B[0m \u001B[1;32mfrom\u001B[0m \u001B[0mMASONmodel\u001B[0m\u001B[1;33m.\u001B[0m\u001B[0msrc\u001B[0m\u001B[1;33m.\u001B[0m\u001B[0mfeatures\u001B[0m\u001B[1;33m.\u001B[0m\u001B[0mcircuit\u001B[0m \u001B[1;32mimport\u001B[0m \u001B[0mTransducer_acoustic_circuit\u001B[0m\u001B[1;33m\u001B[0m\u001B[1;33m\u001B[0m\u001B[0m\n",
      "\u001B[1;31mModuleNotFoundError\u001B[0m: No module named 'MASONmodel'"
     ]
    }
   ]
  }
 ]
}