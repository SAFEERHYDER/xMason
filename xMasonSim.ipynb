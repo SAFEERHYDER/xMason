{
  "nbformat": 4,
  "nbformat_minor": 0,
  "metadata": {
    "colab": {
      "name": "xMasonSim.ipynb",
      "provenance": [],
      "authorship_tag": "ABX9TyNMq2XMJhJoP2c1ih9NyRD7",
      "include_colab_link": true
    },
    "kernelspec": {
      "name": "python3",
      "display_name": "Python 3"
    },
    "language_info": {
      "name": "python"
    }
  },
  "cells": [
    {
      "cell_type": "markdown",
      "metadata": {
        "id": "view-in-github",
        "colab_type": "text"
      },
      "source": [
        "<a href=\"https://colab.research.google.com/github/luuleitner/xMason/blob/main/xMasonSim.ipynb\" target=\"_parent\"><img src=\"https://colab.research.google.com/assets/colab-badge.svg\" alt=\"Open In Colab\"/></a>"
      ]
    },
    {
      "cell_type": "code",
      "execution_count": null,
      "metadata": {
        "id": "R_3RfvRKxRuT"
      },
      "outputs": [],
      "source": [
        "# xMason can be directly installed from the GitHub repository using PIP.\n",
        "\n",
        "!pip install git+https://github.com/luuleitner/deepMTJ "
      ]
    },
    {
      "cell_type": "code",
      "source": [
        "# We need to import necessary packages into Colab. Don't worry to much about this cell of code\n",
        "\n",
        "from MASONmodel.src.data.loader import VNA_Dataloader\n",
        "from MASONmodel.src.models.simulate import simulate_xMason\n",
        "from MASONmodel.src.features.ports import frequency_spectrum\n",
        "\n",
        "import numpy as np # array handeling\n",
        "from urllib.request import urlretrieve # for downloading the sample data\n",
        "import seaborn as sns\n",
        "from matplotlib import pyplot as plt\n",
        "from scipy.signal import find_peaks"
      ],
      "metadata": {
        "id": "0VLs5aa6xn1x"
      },
      "execution_count": null,
      "outputs": []
    }
  ]
}