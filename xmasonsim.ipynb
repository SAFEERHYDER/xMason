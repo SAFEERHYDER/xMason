{
  "nbformat": 4,
  "nbformat_minor": 0,
  "metadata": {
    "colab": {
      "name": "Untitled0.ipynb",
      "provenance": [],
      "authorship_tag": "ABX9TyNNpbp5C2sVDqGVg7v4TzFF",
      "include_colab_link": true
    },
    "kernelspec": {
      "name": "python3",
      "display_name": "Python 3"
    },
    "language_info": {
      "name": "python"
    }
  },
  "cells": [
    {
      "cell_type": "markdown",
      "metadata": {
        "id": "view-in-github",
        "colab_type": "text"
      },
      "source": [
        "<a href=\"https://colab.research.google.com/github/luuleitner/xMason/blob/main/xmasonsim.ipynb\" target=\"_parent\"><img src=\"https://colab.research.google.com/assets/colab-badge.svg\" alt=\"Open In Colab\"/></a>"
      ]
    },
    {
      "cell_type": "code",
      "execution_count": null,
      "metadata": {
        "id": "T-2PE3n6uk5X"
      },
      "outputs": [],
      "source": [
        "# xMason can be directly installed from the GitHub repository using PIP.\n",
        "\n",
        "!pip install git+https://github.com/luuleitner/xMason"
      ]
    },
    {
      "cell_type": "code",
      "source": [
        "# We need to import necessary packages into Colab. Don't worry to much about this cell of code\n",
        "\n",
        "from simulation.src.data.loader import VNA_Dataloader\n",
        "from simulation.src.models.simulate import simulate_xMason\n",
        "from simulation.src.features.ports import frequency_spectrum\n",
        "\n",
        "import numpy as np # array handeling\n",
        "from urllib.request import urlretrieve # for downloading the sample data\n",
        "import seaborn as sns\n",
        "from matplotlib import pyplot as plt\n",
        "from scipy.signal import find_peaks"
      ],
      "metadata": {
        "id": "hwVXnzTxuoTo"
      },
      "execution_count": null,
      "outputs": []
    },
    {
      "cell_type": "code",
      "source": [
        "frequency_band = [20, 100]\n",
        "transducer_radius = 0.0088\n",
        "transducer_thickness = 13.7 * 10 ** -6,\n",
        "electrode_thickness = 0.5 * 10 ** -6,\n",
        "substrate_thickness = 13.7 * 10 ** -6,\n",
        "\n",
        "\n",
        "Simulation_1 = simulate_xMason({'fband' : frequency_band,\n",
        "                                'radius' : transducer_radius,\n",
        "                                'thickness_td' : transducer_thickness,\n",
        "                                'thickness_el' : electrode_thickness,\n",
        "                                'thickness_sub' : substrate_thickness,\n",
        "                                'Tload' : 'Air',\n",
        "                                'Telectrode' : 'Silverink',\n",
        "                                'piezo' : 'P(VDF-TrFE)',\n",
        "                                'Belectrode' : 'Silverink',\n",
        "                                'Bsubstrate' : 'Kapton',\n",
        "                                'Bload' : 'Air'})"
      ],
      "metadata": {
        "id": "NBcPRVLwR66B"
      },
      "execution_count": null,
      "outputs": []
    }
  ]
}