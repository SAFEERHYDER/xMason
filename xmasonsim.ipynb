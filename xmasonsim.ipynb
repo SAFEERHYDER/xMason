{
  "nbformat": 4,
  "nbformat_minor": 0,
  "metadata": {
    "colab": {
      "name": "Untitled0.ipynb",
      "provenance": [],
      "authorship_tag": "ABX9TyOSLMW5TWhCprBKDUAmd4uv",
      "include_colab_link": true
    },
    "kernelspec": {
      "name": "python3",
      "display_name": "Python 3"
    },
    "language_info": {
      "name": "python"
    }
  },
  "cells": [
    {
      "cell_type": "markdown",
      "metadata": {
        "id": "view-in-github",
        "colab_type": "text"
      },
      "source": [
        "<a href=\"https://colab.research.google.com/github/luuleitner/xMason/blob/main/xmasonsim.ipynb\" target=\"_parent\"><img src=\"https://colab.research.google.com/assets/colab-badge.svg\" alt=\"Open In Colab\"/></a>"
      ]
    },
    {
      "cell_type": "code",
      "execution_count": 1,
      "metadata": {
        "colab": {
          "base_uri": "https://localhost:8080/"
        },
        "id": "T-2PE3n6uk5X",
        "outputId": "6db63c28-713b-48d7-b96d-41d622f66e3b"
      },
      "outputs": [
        {
          "output_type": "stream",
          "name": "stdout",
          "text": [
            "Looking in indexes: https://pypi.org/simple, https://us-python.pkg.dev/colab-wheels/public/simple/\n",
            "Collecting git+https://github.com/luuleitner/xMason\n",
            "  Cloning https://github.com/luuleitner/xMason to /tmp/pip-req-build-zbt0ia0k\n",
            "  Running command git clone -q https://github.com/luuleitner/xMason /tmp/pip-req-build-zbt0ia0k\n",
            "Collecting datetime\n",
            "  Downloading DateTime-4.4-py2.py3-none-any.whl (51 kB)\n",
            "\u001b[K     |████████████████████████████████| 51 kB 295 kB/s \n",
            "\u001b[?25hRequirement already satisfied: tqdm in /usr/local/lib/python3.7/dist-packages (from xMason==1.0) (4.64.0)\n",
            "Requirement already satisfied: numpy in /usr/local/lib/python3.7/dist-packages (from xMason==1.0) (1.21.6)\n",
            "Requirement already satisfied: matplotlib in /usr/local/lib/python3.7/dist-packages (from xMason==1.0) (3.2.2)\n",
            "Requirement already satisfied: pandas in /usr/local/lib/python3.7/dist-packages (from xMason==1.0) (1.3.5)\n",
            "Requirement already satisfied: pytz in /usr/local/lib/python3.7/dist-packages (from datetime->xMason==1.0) (2022.1)\n",
            "Collecting zope.interface\n",
            "  Downloading zope.interface-5.4.0-cp37-cp37m-manylinux2010_x86_64.whl (251 kB)\n",
            "\u001b[K     |████████████████████████████████| 251 kB 8.4 MB/s \n",
            "\u001b[?25hRequirement already satisfied: python-dateutil>=2.1 in /usr/local/lib/python3.7/dist-packages (from matplotlib->xMason==1.0) (2.8.2)\n",
            "Requirement already satisfied: cycler>=0.10 in /usr/local/lib/python3.7/dist-packages (from matplotlib->xMason==1.0) (0.11.0)\n",
            "Requirement already satisfied: kiwisolver>=1.0.1 in /usr/local/lib/python3.7/dist-packages (from matplotlib->xMason==1.0) (1.4.3)\n",
            "Requirement already satisfied: pyparsing!=2.0.4,!=2.1.2,!=2.1.6,>=2.0.1 in /usr/local/lib/python3.7/dist-packages (from matplotlib->xMason==1.0) (3.0.9)\n",
            "Requirement already satisfied: typing-extensions in /usr/local/lib/python3.7/dist-packages (from kiwisolver>=1.0.1->matplotlib->xMason==1.0) (4.1.1)\n",
            "Requirement already satisfied: six>=1.5 in /usr/local/lib/python3.7/dist-packages (from python-dateutil>=2.1->matplotlib->xMason==1.0) (1.15.0)\n",
            "Requirement already satisfied: setuptools in /usr/local/lib/python3.7/dist-packages (from zope.interface->datetime->xMason==1.0) (57.4.0)\n",
            "Building wheels for collected packages: xMason\n",
            "  Building wheel for xMason (setup.py) ... \u001b[?25l\u001b[?25hdone\n",
            "  Created wheel for xMason: filename=xMason-1.0-py3-none-any.whl size=15944 sha256=6ed8495dd09d676db36867f6ac0e7738ada0eceafe1cb6945956e9473de368aa\n",
            "  Stored in directory: /tmp/pip-ephem-wheel-cache-jtyf9hp_/wheels/2b/97/35/9cc839136d62979206df40b03dcc41952315ae913e8ef6f43c\n",
            "Successfully built xMason\n",
            "Installing collected packages: zope.interface, datetime, xMason\n",
            "Successfully installed datetime-4.4 xMason-1.0 zope.interface-5.4.0\n"
          ]
        }
      ],
      "source": [
        "# xMason can be directly installed from the GitHub repository using PIP.\n",
        "\n",
        "!pip install git+https://github.com/luuleitner/xMason"
      ]
    },
    {
      "cell_type": "code",
      "source": [
        "# We need to import necessary packages into Colab. Don't worry to much about this cell of code\n",
        "\n",
        "from simulation.src.data.loader import VNA_Dataloader\n",
        "from simulation.src.models.simulate import simulate_xMason\n",
        "from simulation.src.features.ports import frequency_spectrum\n",
        "\n",
        "import numpy as np # array handeling\n",
        "from urllib.request import urlretrieve # for downloading the sample data\n",
        "import seaborn as sns\n",
        "from matplotlib import pyplot as plt\n",
        "from scipy.signal import find_peaks"
      ],
      "metadata": {
        "id": "hwVXnzTxuoTo"
      },
      "execution_count": 2,
      "outputs": []
    }
  ]
}