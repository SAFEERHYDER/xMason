{
 "nbformat": 4,
 "nbformat_minor": 0,
 "metadata": {
  "colab": {
   "name": "Untitled0.ipynb",
   "provenance": [],
   "authorship_tag": "ABX9TyNvWauvNkgdLW75mgovThm5",
   "include_colab_link": true
  },
  "kernelspec": {
   "name": "python3",
   "display_name": "Python 3"
  },
  "language_info": {
   "name": "python"
  }
 },
 "cells": [
  {
   "cell_type": "markdown",
   "metadata": {
    "id": "view-in-github",
    "colab_type": "text"
   },
   "source": [
    "<a href=\"https://colab.research.google.com/github/luuleitner/xMason/blob/main/xmasonsim.ipynb\" target=\"_parent\"><img src=\"https://colab.research.google.com/assets/colab-badge.svg\" alt=\"Open In Colab\"/></a>"
   ]
  },
  {
   "cell_type": "code",
   "execution_count": null,
   "metadata": {
    "id": "T-2PE3n6uk5X"
   },
   "outputs": [],
   "source": [
    "# xMason can be directly installed from the GitHub repository using PIP.\n",
    "\n",
    "!pip install git+https://github.com/luuleitner/xMason"
   ]
  },
  {
   "cell_type": "code",
   "execution_count": 1,
   "outputs": [],
   "source": [
    "# We need to import necessary packages into Colab. Don't worry to much about this cell of code\n",
    "\n",
    "from simulation.src.data.loader import VNA_Dataloader\n",
    "from simulation.src.models.simulate import simulate_xMason\n",
    "from simulation.src.features.ports import frequency_spectrum\n",
    "\n",
    "import os\n",
    "import numpy as np # array handeling\n",
    "from urllib.request import urlretrieve # for downloading the sample data\n",
    "import seaborn as sns\n",
    "from matplotlib import pyplot as plt\n",
    "from scipy.signal import find_peaks"
   ],
   "metadata": {
    "collapsed": false,
    "pycharm": {
     "name": "#%%\n"
    }
   }
  },
  {
   "cell_type": "code",
   "execution_count": null,
   "outputs": [],
   "source": [
    "mason_path = '/content/xMasonData'\n",
    "mat_path = os.path.join(mason_path, 'materials.csv')\n",
    "\n",
    "if os.path.exists(mason_path) == False:\n",
    "  os.mkdir(mason_path)\n",
    "  os.chdir(mason_path)\n",
    "  !wget https://raw.githubusercontent.com/luuleitner/xMason/main/data/materials.csv\n",
    "\n",
    "if os.path.exists(os.path.join(mason_path,'/ISAFdata')) == False:\n",
    "  os.mkdir(os.path.join(mason_path,'/ISAFdata'))\n",
    "  os.chdir(os.path.join(mason_path,'/ISAFdata'))\n",
    "  !wget -i https://raw.githubusercontent.com/luuleitner/xMason/main/data/dataset_ISAF22/isaf_dataset_url.txt\n",
    "\n",
    "os.chdir(mason_path)"
   ],
   "metadata": {
    "collapsed": false,
    "pycharm": {
     "name": "#%%\n"
    }
   }
  },
  {
   "cell_type": "code",
   "execution_count": 2,
   "outputs": [
    {
     "name": "stdout",
     "output_type": "stream",
     "text": [
      "Initializing model... \n",
      "\n",
      "Model initialized in 0.120068 seconds\n",
      "\n",
      "Start simulation... \n",
      "\n",
      "Impedance simulation took 0.030967seconds\n"
     ]
    },
    {
     "name": "stderr",
     "output_type": "stream",
     "text": [
      "C:\\Users\\chule\\OneDrive\\003_USLOCOMOTOR_GitREPO\\xMason\\simulation\\src\\features\\ports.py:109: PerformanceWarning: indexing past lexsort depth may impact performance.\n",
      "  self._v = float(transducer.material.loc['piezo', 'v'].values)\n",
      "C:\\Users\\chule\\OneDrive\\003_USLOCOMOTOR_GitREPO\\xMason\\simulation\\src\\features\\ports.py:110: PerformanceWarning: indexing past lexsort depth may impact performance.\n",
      "  self._t = float(transducer.geometry.loc['piezo', 'Thickness'].values)\n"
     ]
    }
   ],
   "source": [
    "frequency_band = [20, 100]\n",
    "transducer_radius = 0.0088\n",
    "transducer_thickness = 13.7 * 10 ** -6\n",
    "electrode_thickness = 0.5 * 10 ** -6\n",
    "substrate_thickness = 13.7 * 10 ** -6\n",
    "\n",
    "\n",
    "Simulation_1 = simulate_xMason(parameters={'fband' : frequency_band,\n",
    "                                           'radius' : transducer_radius,\n",
    "                                           'thickness_td' : transducer_thickness,\n",
    "                                           'thickness_el' : electrode_thickness,\n",
    "                                           'thickness_sub' : substrate_thickness,\n",
    "                                           'Tload' : 'Air',\n",
    "                                           'Telectrode' : 'Silverink',\n",
    "                                           'piezo' : 'P(VDF-TrFE)',\n",
    "                                           'Belectrode' : 'Silverink',\n",
    "                                           'Bsubstrate' : 'Kapton',\n",
    "                                           'Bload' : 'Air'},\n",
    "                               matpath='data/materials.csv')"
   ],
   "metadata": {
    "collapsed": false,
    "pycharm": {
     "name": "#%%\n"
    }
   }
  }
 ]
}