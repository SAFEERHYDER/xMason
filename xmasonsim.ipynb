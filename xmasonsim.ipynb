{
  "nbformat": 4,
  "nbformat_minor": 0,
  "metadata": {
    "colab": {
      "name": "Untitled0.ipynb",
      "provenance": [],
      "include_colab_link": true
    },
    "kernelspec": {
      "name": "python3",
      "display_name": "Python 3"
    },
    "language_info": {
      "name": "python"
    }
  },
  "cells": [
    {
      "cell_type": "markdown",
      "metadata": {
        "id": "view-in-github",
        "colab_type": "text"
      },
      "source": [
        "<a href=\"https://colab.research.google.com/github/luuleitner/xMason/blob/main/xmasonsim.ipynb\" target=\"_parent\"><img src=\"https://colab.research.google.com/assets/colab-badge.svg\" alt=\"Open In Colab\"/></a>"
      ]
    },
    {
      "cell_type": "markdown",
      "source": [
        "# xMason\n",
        "#### An adapted Mason model to calculate impedance responses of ultrasonic transducers"
      ],
      "metadata": {
        "id": "HIVXHb10BEXL"
      }
    },
    {
      "cell_type": "markdown",
      "source": [
        "## Setup"
      ],
      "metadata": {
        "id": "0VEzSlWhCawY"
      }
    },
    {
      "cell_type": "code",
      "execution_count": null,
      "metadata": {
        "id": "T-2PE3n6uk5X"
      },
      "outputs": [],
      "source": [
        "# xMason can be directly installed from the GitHub repository using PIP.\n",
        "\n",
        "!pip install git+https://github.com/luuleitner/xMason"
      ]
    },
    {
      "cell_type": "code",
      "execution_count": null,
      "outputs": [],
      "source": [
        "# We need to import necessary packages into Colab. Don't worry to much about this cell of code\n",
        "\n",
        "from simulation.src.data.loader import VNA_Dataloader\n",
        "from simulation.src.models.simulate import simulate_xMason\n",
        "from simulation.src.features.ports import frequency_spectrum\n",
        "\n",
        "import os\n",
        "import numpy as np # array handeling\n",
        "from urllib.request import urlretrieve # for downloading the sample data\n",
        "import seaborn as sns\n",
        "from matplotlib import pyplot as plt\n",
        "from scipy.signal import find_peaks"
      ],
      "metadata": {
        "pycharm": {
          "name": "#%%\n"
        },
        "id": "VZfSB4xF4_pJ"
      }
    },
    {
      "cell_type": "markdown",
      "source": [
        "## Load dataset"
      ],
      "metadata": {
        "id": "amzQdhujCgtB"
      }
    },
    {
      "cell_type": "code",
      "execution_count": null,
      "outputs": [],
      "source": [
        "# Import the material data and the ISAF22 VNA dataset of 6 printed P(VDF-TrFE) transducers\n",
        "\n",
        "mason_path = '/content/xMasonData'\n",
        "mat_path = os.path.join(mason_path, 'materials.csv')\n",
        "ISAF22_VNAexperiments = os.path.join(mason_path, '/ISAFdata')\n",
        "\n",
        "if os.path.exists(mason_path) == False:\n",
        "  os.mkdir(mason_path)\n",
        "  os.chdir(mason_path)\n",
        "  !wget https://raw.githubusercontent.com/luuleitner/xMason/main/data/materials.csv\n",
        "\n",
        "if os.path.exists(ISAF22_VNAexperiments) == False:\n",
        "  os.mkdir(ISAF22_VNAexperiments)\n",
        "  os.chdir(ISAF22_VNAexperiments)\n",
        "  !wget -i https://raw.githubusercontent.com/luuleitner/xMason/main/data/dataset_ISAF22/isaf_dataset_url.txt\n",
        "\n",
        "os.chdir(mason_path)"
      ],
      "metadata": {
        "pycharm": {
          "name": "#%%\n"
        },
        "id": "37I-9rpK4_pK"
      }
    },
    {
      "cell_type": "markdown",
      "source": [
        "## Transducer stack"
      ],
      "metadata": {
        "id": "q2dbAocYCj5x"
      }
    },
    {
      "cell_type": "code",
      "source": [
        "# Define sizes and materials of the transducer stack\n",
        "\n",
        "## Transducer stack sizes:\n",
        "frequency_band = [20, 100]\n",
        "transducer_radius = 0.0088\n",
        "\n",
        "transducer_thickness_1 = 12.3 * 10 ** -6\n",
        "transducer_thickness_2 = 16.6 * 10 ** -6\n",
        "\n",
        "electrode_thickness = 0.5 * 10 ** -6\n",
        "substrate_thickness = 13 * 10 ** -6\n",
        "\n",
        "\n",
        "## Transducer stack materials:\n",
        "top_load = bottom_load = 'Air'\n",
        "electrode_mat = 'Silverink'\n",
        "piezo_mat = 'P(VDF-TrFE)'\n",
        "substrate_mat = 'Kapton'"
      ],
      "metadata": {
        "id": "Nw1CQ74kCCgC"
      },
      "execution_count": null,
      "outputs": []
    },
    {
      "cell_type": "markdown",
      "source": [
        "## Simulation"
      ],
      "metadata": {
        "id": "Kxuun9TxCop-"
      }
    },
    {
      "cell_type": "code",
      "execution_count": null,
      "outputs": [],
      "source": [
        "# Start simulation\n",
        "\n",
        "Simulation_1 = simulate_xMason(parameters={'fband' : frequency_band,\n",
        "                                           'radius' : transducer_radius,\n",
        "                                           'thickness_td' : transducer_thickness_1,\n",
        "                                           'thickness_el' : electrode_thickness,\n",
        "                                           'thickness_sub' : substrate_thickness,\n",
        "                                           'Tload' : top_load,\n",
        "                                           'Telectrode' : electrode_mat,\n",
        "                                           'piezo' : piezo_mat,\n",
        "                                           'Belectrode' : electrode_mat,\n",
        "                                           'Bsubstrate' : substrate_mat,\n",
        "                                           'Bload' : bottom_load},\n",
        "                               matpath=mat_path)\n",
        "\n",
        "Simulation_2 = simulate_xMason(parameters={'fband' : frequency_band,\n",
        "                                           'radius' : transducer_radius,\n",
        "                                           'thickness_td' : transducer_thickness_2,\n",
        "                                           'thickness_el' : electrode_thickness,\n",
        "                                           'thickness_sub' : substrate_thickness,\n",
        "                                           'Tload' : top_load,\n",
        "                                           'Telectrode' : electrode_mat,\n",
        "                                           'piezo' : piezo_mat,\n",
        "                                           'Belectrode' : electrode_mat,\n",
        "                                           'Bsubstrate' : substrate_mat,\n",
        "                                           'Bload' : bottom_load},\n",
        "                               matpath=mat_path)"
      ],
      "metadata": {
        "pycharm": {
          "name": "#%%\n"
        },
        "id": "H5YkLkqY4_pL"
      }
    },
    {
      "cell_type": "code",
      "source": [
        "# Load experimental dats collected on 6 printed P(VDF-TrFE) samples\n",
        "\n",
        "ISAF22_dataset = VNA_Dataloader(ISAF22_VNAexperiments, process=1, fcut=frequency_band[1])\n",
        "samples = ['Sample 1', 'Sample 2', 'Sample 3', 'Sample 4', 'Sample 5', 'Sample 6']"
      ],
      "metadata": {
        "id": "XxrAGwJl6LSu"
      },
      "execution_count": null,
      "outputs": []
    },
    {
      "cell_type": "code",
      "source": [
        "# Plot results\n",
        "\n",
        "colors_red = sns.color_palette('Reds')\n",
        "colors_blue = sns.color_palette('Blues')\n",
        "\n",
        "fig = plt.figure(figsize=(5,4), dpi=250)\n",
        "ax_1 = fig.add_subplot(111)\n",
        "for idx in range(ISAF22_dataset.experiments.shape[2]-3):\n",
        "    ax_1.plot((ISAF22_dataset.experiments[:, 0, idx] / 10**6), ISAF22_dataset.experiments[:, 6, idx],\n",
        "              # markersize = 1,\n",
        "              linewidth=2,\n",
        "              color=colors_red[idx],\n",
        "              alpha=0.4,\n",
        "              label=samples[idx])\n",
        "\n",
        "for idx in range(ISAF22_dataset.experiments.shape[2]-3):\n",
        "    idx = idx+3\n",
        "    ax_1.plot((ISAF22_dataset.experiments[:, 0, idx] / 10**6), ISAF22_dataset.experiments[:, 6, idx],\n",
        "              # markersize = 1,\n",
        "              linewidth=2,\n",
        "              color=colors_blue[idx],\n",
        "              alpha=0.4,\n",
        "              label=samples[idx])\n",
        "\n",
        "ax_1.plot((frequency_spectrum(frequency_band) / 10 ** 6), np.abs(Simulation_1.impedance.electric_impedance),\n",
        "          markersize=1,\n",
        "          linewidth=3,\n",
        "          color=colors_blue[5],\n",
        "          label=f'Simulation 1')\n",
        "\n",
        "ax_1.plot((frequency_spectrum(frequency_band) / 10 ** 6), np.abs(Simulation_2.impedance.electric_impedance),\n",
        "          markersize=1,\n",
        "          linewidth=3,\n",
        "          color=colors_red[5],\n",
        "          label=f'Simulation 2')\n",
        "\n",
        "\n",
        "ax_1.legend(ncol=3, loc=\"upper right\", fontsize=6)\n",
        "ax_1.set_yscale('log')\n",
        "ax_1.set_xlabel('Frequency [MHz]', fontsize=18)\n",
        "ax_1.set_ylabel(r'$\\mid Z\\mid [\\Omega]$', fontsize=18)\n",
        "ax_1.tick_params(axis='x', labelsize=15)\n",
        "ax_1.tick_params(axis='y', labelsize=15)\n",
        "\n",
        "plt.tight_layout()\n",
        "plt.show()\n"
      ],
      "metadata": {
        "id": "hAi8r9QE895s"
      },
      "execution_count": null,
      "outputs": []
    }
  ]
}