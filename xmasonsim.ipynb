{
  "nbformat": 4,
  "nbformat_minor": 0,
  "metadata": {
    "colab": {
      "name": "Untitled0.ipynb",
      "provenance": [],
      "authorship_tag": "ABX9TyPGd5638tvnwrhffAuDU/+0",
      "include_colab_link": true
    },
    "kernelspec": {
      "name": "python3",
      "display_name": "Python 3"
    },
    "language_info": {
      "name": "python"
    }
  },
  "cells": [
    {
      "cell_type": "markdown",
      "metadata": {
        "id": "view-in-github",
        "colab_type": "text"
      },
      "source": [
        "<a href=\"https://colab.research.google.com/github/luuleitner/xMason/blob/main/xmasonsim.ipynb\" target=\"_parent\"><img src=\"https://colab.research.google.com/assets/colab-badge.svg\" alt=\"Open In Colab\"/></a>"
      ]
    },
    {
      "cell_type": "code",
      "execution_count": 1,
      "metadata": {
        "id": "T-2PE3n6uk5X",
        "outputId": "4b71d946-113b-4ad5-bfd8-c7c7f825e4ca",
        "colab": {
          "base_uri": "https://localhost:8080/"
        }
      },
      "outputs": [
        {
          "output_type": "stream",
          "name": "stdout",
          "text": [
            "Looking in indexes: https://pypi.org/simple, https://us-python.pkg.dev/colab-wheels/public/simple/\n",
            "Collecting git+https://github.com/luuleitner/xMason\n",
            "  Cloning https://github.com/luuleitner/xMason to /tmp/pip-req-build-e6rhw3ly\n",
            "  Running command git clone -q https://github.com/luuleitner/xMason /tmp/pip-req-build-e6rhw3ly\n",
            "Collecting datetime\n",
            "  Downloading DateTime-4.4-py2.py3-none-any.whl (51 kB)\n",
            "\u001b[K     |████████████████████████████████| 51 kB 433 kB/s \n",
            "\u001b[?25hRequirement already satisfied: tqdm in /usr/local/lib/python3.7/dist-packages (from xMason==1.0) (4.64.0)\n",
            "Requirement already satisfied: numpy in /usr/local/lib/python3.7/dist-packages (from xMason==1.0) (1.21.6)\n",
            "Requirement already satisfied: matplotlib in /usr/local/lib/python3.7/dist-packages (from xMason==1.0) (3.2.2)\n",
            "Requirement already satisfied: pandas in /usr/local/lib/python3.7/dist-packages (from xMason==1.0) (1.3.5)\n",
            "Collecting zope.interface\n",
            "  Downloading zope.interface-5.4.0-cp37-cp37m-manylinux2010_x86_64.whl (251 kB)\n",
            "\u001b[K     |████████████████████████████████| 251 kB 8.1 MB/s \n",
            "\u001b[?25hRequirement already satisfied: pytz in /usr/local/lib/python3.7/dist-packages (from datetime->xMason==1.0) (2022.1)\n",
            "Requirement already satisfied: kiwisolver>=1.0.1 in /usr/local/lib/python3.7/dist-packages (from matplotlib->xMason==1.0) (1.4.3)\n",
            "Requirement already satisfied: pyparsing!=2.0.4,!=2.1.2,!=2.1.6,>=2.0.1 in /usr/local/lib/python3.7/dist-packages (from matplotlib->xMason==1.0) (3.0.9)\n",
            "Requirement already satisfied: cycler>=0.10 in /usr/local/lib/python3.7/dist-packages (from matplotlib->xMason==1.0) (0.11.0)\n",
            "Requirement already satisfied: python-dateutil>=2.1 in /usr/local/lib/python3.7/dist-packages (from matplotlib->xMason==1.0) (2.8.2)\n",
            "Requirement already satisfied: typing-extensions in /usr/local/lib/python3.7/dist-packages (from kiwisolver>=1.0.1->matplotlib->xMason==1.0) (4.1.1)\n",
            "Requirement already satisfied: six>=1.5 in /usr/local/lib/python3.7/dist-packages (from python-dateutil>=2.1->matplotlib->xMason==1.0) (1.15.0)\n",
            "Requirement already satisfied: setuptools in /usr/local/lib/python3.7/dist-packages (from zope.interface->datetime->xMason==1.0) (57.4.0)\n",
            "Building wheels for collected packages: xMason\n",
            "  Building wheel for xMason (setup.py) ... \u001b[?25l\u001b[?25hdone\n",
            "  Created wheel for xMason: filename=xMason-1.0-py3-none-any.whl size=13870 sha256=cbe78bfedf312215402d28d9b9e2a52e07bb8e371b90bfeb5f81ae708ea36cd4\n",
            "  Stored in directory: /tmp/pip-ephem-wheel-cache-uxucegu0/wheels/2b/97/35/9cc839136d62979206df40b03dcc41952315ae913e8ef6f43c\n",
            "Successfully built xMason\n",
            "Installing collected packages: zope.interface, datetime, xMason\n",
            "Successfully installed datetime-4.4 xMason-1.0 zope.interface-5.4.0\n"
          ]
        }
      ],
      "source": [
        "# xMason can be directly installed from the GitHub repository using PIP.\n",
        "\n",
        "!pip install git+https://github.com/luuleitner/xMason"
      ]
    },
    {
      "cell_type": "code",
      "source": [
        "# We need to import necessary packages into Colab. Don't worry to much about this cell of code\n",
        "\n",
        "from simulation.src.data.loader import VNA_Dataloader\n",
        "from simulation.src.models.simulate import simulate_xMason\n",
        "from simulation.src.features.ports import frequency_spectrum\n",
        "\n",
        "import os\n",
        "import numpy as np # array handeling\n",
        "from urllib.request import urlretrieve # for downloading the sample data\n",
        "import seaborn as sns\n",
        "from matplotlib import pyplot as plt\n",
        "from scipy.signal import find_peaks"
      ],
      "metadata": {
        "id": "hwVXnzTxuoTo"
      },
      "execution_count": 14,
      "outputs": []
    },
    {
      "cell_type": "code",
      "source": [
        "if os.path.exists('/content/xMasonData') == False:\n",
        "  os.mkdir('/content/xMasonData')\n",
        "if os.path.exists('/content/xMasonData/ISAFdata') == False:\n",
        "  os.mkdir('/content/xMasonData/ISAFdata')\n",
        "\n",
        "os.chdir('/content/xMasonData')\n",
        "!wget https://raw.githubusercontent.com/luuleitner/xMason/main/data/materials.csv\n",
        "\n",
        "os.chdir('/content/xMasonData/ISAFdata')\n",
        "!wget -i https://raw.githubusercontent.com/luuleitner/xMason/main/data/dataset_ISAF22/isaf_dataset_url.txt"
      ],
      "metadata": {
        "id": "Px8qoHp_p0BY",
        "outputId": "d3b86ae9-20f0-43de-99ac-269aca2a0daa",
        "colab": {
          "base_uri": "https://localhost:8080/"
        }
      },
      "execution_count": 17,
      "outputs": [
        {
          "output_type": "stream",
          "name": "stdout",
          "text": [
            "--2022-06-29 23:12:29--  https://raw.githubusercontent.com/luuleitner/xMason/main/data/materials.csv\n",
            "Resolving raw.githubusercontent.com (raw.githubusercontent.com)... 185.199.110.133, 185.199.111.133, 185.199.108.133, ...\n",
            "Connecting to raw.githubusercontent.com (raw.githubusercontent.com)|185.199.110.133|:443... connected.\n",
            "HTTP request sent, awaiting response... 200 OK\n",
            "Length: 1135 (1.1K) [text/plain]\n",
            "Saving to: ‘materials.csv.1’\n",
            "\n",
            "\rmaterials.csv.1       0%[                    ]       0  --.-KB/s               \rmaterials.csv.1     100%[===================>]   1.11K  --.-KB/s    in 0s      \n",
            "\n",
            "2022-06-29 23:12:29 (65.1 MB/s) - ‘materials.csv.1’ saved [1135/1135]\n",
            "\n",
            "--2022-06-29 23:12:29--  https://raw.githubusercontent.com/luuleitner/xMason/main/data/dataset_ISAF22/isaf_dataset_url.txt\n",
            "Resolving raw.githubusercontent.com (raw.githubusercontent.com)... 185.199.111.133, 185.199.109.133, 185.199.108.133, ...\n",
            "Connecting to raw.githubusercontent.com (raw.githubusercontent.com)|185.199.111.133|:443... connected.\n",
            "HTTP request sent, awaiting response... 200 OK\n",
            "Length: 509 [text/plain]\n",
            "Saving to: ‘isaf_dataset_url.txt’\n",
            "\n",
            "isaf_dataset_url.tx 100%[===================>]     509  --.-KB/s    in 0s      \n",
            "\n",
            "2022-06-29 23:12:29 (15.7 MB/s) - ‘isaf_dataset_url.txt’ saved [509/509]\n",
            "\n",
            "--2022-06-29 23:12:29--  https://raw.githubusercontent.com/luuleitner/xMason/main/data/dataset_ISAF22/T61.csv\n",
            "Reusing existing connection to raw.githubusercontent.com:443.\n",
            "HTTP request sent, awaiting response... 200 OK\n",
            "Length: 49218 (48K) [text/plain]\n",
            "Saving to: ‘T61.csv’\n",
            "\n",
            "T61.csv             100%[===================>]  48.06K  --.-KB/s    in 0.01s   \n",
            "\n",
            "2022-06-29 23:12:30 (3.77 MB/s) - ‘T61.csv’ saved [49218/49218]\n",
            "\n",
            "--2022-06-29 23:12:30--  https://raw.githubusercontent.com/luuleitner/xMason/main/data/dataset_ISAF22/T62.csv\n",
            "Reusing existing connection to raw.githubusercontent.com:443.\n",
            "HTTP request sent, awaiting response... 200 OK\n",
            "Length: 48618 (47K) [text/plain]\n",
            "Saving to: ‘T62.csv’\n",
            "\n",
            "T62.csv             100%[===================>]  47.48K  --.-KB/s    in 0.002s  \n",
            "\n",
            "2022-06-29 23:12:30 (24.4 MB/s) - ‘T62.csv’ saved [48618/48618]\n",
            "\n",
            "--2022-06-29 23:12:30--  https://raw.githubusercontent.com/luuleitner/xMason/main/data/dataset_ISAF22/T63.csv\n",
            "Reusing existing connection to raw.githubusercontent.com:443.\n",
            "HTTP request sent, awaiting response... 200 OK\n",
            "Length: 49024 (48K) [text/plain]\n",
            "Saving to: ‘T63.csv’\n",
            "\n",
            "T63.csv             100%[===================>]  47.88K  --.-KB/s    in 0.002s  \n",
            "\n",
            "2022-06-29 23:12:30 (25.7 MB/s) - ‘T63.csv’ saved [49024/49024]\n",
            "\n",
            "--2022-06-29 23:12:30--  https://raw.githubusercontent.com/luuleitner/xMason/main/data/dataset_ISAF22/T64.csv\n",
            "Reusing existing connection to raw.githubusercontent.com:443.\n",
            "HTTP request sent, awaiting response... 200 OK\n",
            "Length: 50130 (49K) [text/plain]\n",
            "Saving to: ‘T64.csv’\n",
            "\n",
            "T64.csv             100%[===================>]  48.96K  --.-KB/s    in 0.002s  \n",
            "\n",
            "2022-06-29 23:12:31 (23.4 MB/s) - ‘T64.csv’ saved [50130/50130]\n",
            "\n",
            "--2022-06-29 23:12:31--  https://raw.githubusercontent.com/luuleitner/xMason/main/data/dataset_ISAF22/T66.csv\n",
            "Reusing existing connection to raw.githubusercontent.com:443.\n",
            "HTTP request sent, awaiting response... 200 OK\n",
            "Length: 48886 (48K) [text/plain]\n",
            "Saving to: ‘T66.csv’\n",
            "\n",
            "T66.csv             100%[===================>]  47.74K  --.-KB/s    in 0.002s  \n",
            "\n",
            "2022-06-29 23:12:31 (24.9 MB/s) - ‘T66.csv’ saved [48886/48886]\n",
            "\n",
            "--2022-06-29 23:12:31--  https://raw.githubusercontent.com/luuleitner/xMason/main/data/dataset_ISAF22/T67.csv\n",
            "Reusing existing connection to raw.githubusercontent.com:443.\n",
            "HTTP request sent, awaiting response... 200 OK\n",
            "Length: 50272 (49K) [text/plain]\n",
            "Saving to: ‘T67.csv’\n",
            "\n",
            "T67.csv             100%[===================>]  49.09K  --.-KB/s    in 0.002s  \n",
            "\n",
            "2022-06-29 23:12:31 (24.8 MB/s) - ‘T67.csv’ saved [50272/50272]\n",
            "\n",
            "FINISHED --2022-06-29 23:12:31--\n",
            "Total wall clock time: 2.6s\n",
            "Downloaded: 7 files, 290K in 0.02s (12.8 MB/s)\n"
          ]
        }
      ]
    },
    {
      "cell_type": "code",
      "source": [
        "frequency_band = [20, 100]\n",
        "transducer_radius = 0.0088\n",
        "transducer_thickness = 13.7 * 10 ** -6,\n",
        "electrode_thickness = 0.5 * 10 ** -6,\n",
        "substrate_thickness = 13.7 * 10 ** -6,\n",
        "\n",
        "\n",
        "Simulation_1 = simulate_xMason({'fband' : frequency_band,\n",
        "                                'radius' : transducer_radius,\n",
        "                                'thickness_td' : transducer_thickness,\n",
        "                                'thickness_el' : electrode_thickness,\n",
        "                                'thickness_sub' : substrate_thickness,\n",
        "                                'Tload' : 'Air',\n",
        "                                'Telectrode' : 'Silverink',\n",
        "                                'piezo' : 'P(VDF-TrFE)',\n",
        "                                'Belectrode' : 'Silverink',\n",
        "                                'Bsubstrate' : 'Kapton',\n",
        "                                'Bload' : 'Air'})"
      ],
      "metadata": {
        "id": "NBcPRVLwR66B"
      },
      "execution_count": null,
      "outputs": []
    }
  ]
}